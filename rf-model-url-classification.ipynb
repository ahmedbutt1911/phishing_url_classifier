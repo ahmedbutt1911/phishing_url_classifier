{
 "cells": [
  {
   "cell_type": "code",
   "execution_count": 29,
   "metadata": {
    "execution": {
     "iopub.execute_input": "2025-02-25T10:42:53.086419Z",
     "iopub.status.busy": "2025-02-25T10:42:53.085982Z",
     "iopub.status.idle": "2025-02-25T10:42:53.121785Z",
     "shell.execute_reply": "2025-02-25T10:42:53.121128Z",
     "shell.execute_reply.started": "2025-02-25T10:42:53.086386Z"
    },
    "trusted": true
   },
   "outputs": [],
   "source": [
    "import pandas as pd\n",
    "import re\n",
    "import tldextract\n",
    "from urllib.parse import urlparse\n",
    "import ipaddress\n",
    "from sklearn.model_selection import train_test_split\n",
    "from sklearn.ensemble import RandomForestClassifier\n",
    "from sklearn.feature_selection import SelectKBest, f_classif\n",
    "from sklearn.metrics import accuracy_score, classification_report"
   ]
  },
  {
   "cell_type": "code",
   "execution_count": 30,
   "metadata": {
    "execution": {
     "iopub.execute_input": "2025-02-25T10:40:49.442987Z",
     "iopub.status.busy": "2025-02-25T10:40:49.442470Z",
     "iopub.status.idle": "2025-02-25T10:40:50.715631Z",
     "shell.execute_reply": "2025-02-25T10:40:50.714666Z",
     "shell.execute_reply.started": "2025-02-25T10:40:49.442960Z"
    },
    "trusted": true
   },
   "outputs": [
    {
     "data": {
      "text/html": [
       "<div>\n",
       "<style scoped>\n",
       "    .dataframe tbody tr th:only-of-type {\n",
       "        vertical-align: middle;\n",
       "    }\n",
       "\n",
       "    .dataframe tbody tr th {\n",
       "        vertical-align: top;\n",
       "    }\n",
       "\n",
       "    .dataframe thead th {\n",
       "        text-align: right;\n",
       "    }\n",
       "</style>\n",
       "<table border=\"1\" class=\"dataframe\">\n",
       "  <thead>\n",
       "    <tr style=\"text-align: right;\">\n",
       "      <th></th>\n",
       "      <th>url</th>\n",
       "      <th>status</th>\n",
       "    </tr>\n",
       "  </thead>\n",
       "  <tbody>\n",
       "    <tr>\n",
       "      <th>0</th>\n",
       "      <td>0000111servicehelpdesk.godaddysites.com</td>\n",
       "      <td>0</td>\n",
       "    </tr>\n",
       "    <tr>\n",
       "      <th>1</th>\n",
       "      <td>000011accesswebform.godaddysites.com</td>\n",
       "      <td>0</td>\n",
       "    </tr>\n",
       "    <tr>\n",
       "      <th>2</th>\n",
       "      <td>00003.online</td>\n",
       "      <td>0</td>\n",
       "    </tr>\n",
       "    <tr>\n",
       "      <th>3</th>\n",
       "      <td>0009servicedeskowa.godaddysites.com</td>\n",
       "      <td>0</td>\n",
       "    </tr>\n",
       "    <tr>\n",
       "      <th>4</th>\n",
       "      <td>000n38p.wcomhost.com</td>\n",
       "      <td>0</td>\n",
       "    </tr>\n",
       "  </tbody>\n",
       "</table>\n",
       "</div>"
      ],
      "text/plain": [
       "                                       url  status\n",
       "0  0000111servicehelpdesk.godaddysites.com       0\n",
       "1     000011accesswebform.godaddysites.com       0\n",
       "2                             00003.online       0\n",
       "3      0009servicedeskowa.godaddysites.com       0\n",
       "4                     000n38p.wcomhost.com       0"
      ]
     },
     "execution_count": 30,
     "metadata": {},
     "output_type": "execute_result"
    }
   ],
   "source": [
    "df= pd.read_csv(\"new_data_urls.csv\")\n",
    "df.head()\n"
   ]
  },
  {
   "cell_type": "code",
   "execution_count": 31,
   "metadata": {
    "execution": {
     "iopub.execute_input": "2025-02-25T10:40:55.729209Z",
     "iopub.status.busy": "2025-02-25T10:40:55.728867Z",
     "iopub.status.idle": "2025-02-25T10:40:55.746066Z",
     "shell.execute_reply": "2025-02-25T10:40:55.744965Z",
     "shell.execute_reply.started": "2025-02-25T10:40:55.729161Z"
    },
    "trusted": true
   },
   "outputs": [
    {
     "name": "stdout",
     "output_type": "stream",
     "text": [
      "status\n",
      "1    427028\n",
      "0    394982\n",
      "Name: count, dtype: int64\n",
      "Total rows in dataset: 822010\n"
     ]
    }
   ],
   "source": [
    "print(df[\"status\"].value_counts())\n",
    "print(\"Total rows in dataset:\", len(df))"
   ]
  },
  {
   "cell_type": "code",
   "execution_count": 32,
   "metadata": {
    "execution": {
     "iopub.execute_input": "2025-02-25T10:41:01.149124Z",
     "iopub.status.busy": "2025-02-25T10:41:01.148834Z",
     "iopub.status.idle": "2025-02-25T10:41:01.153713Z",
     "shell.execute_reply": "2025-02-25T10:41:01.152620Z",
     "shell.execute_reply.started": "2025-02-25T10:41:01.149103Z"
    },
    "trusted": true
   },
   "outputs": [],
   "source": [
    "def has_ip(url):\n",
    "    \"\"\"Check if URL contains an IP address.\"\"\"\n",
    "    try:\n",
    "        ipaddress.ip_address(urlparse(url).netloc)\n",
    "        return 1\n",
    "    except ValueError:\n",
    "        return 0"
   ]
  },
  {
   "cell_type": "code",
   "execution_count": 33,
   "metadata": {
    "execution": {
     "iopub.execute_input": "2025-02-25T10:41:05.126975Z",
     "iopub.status.busy": "2025-02-25T10:41:05.126471Z",
     "iopub.status.idle": "2025-02-25T10:41:05.131362Z",
     "shell.execute_reply": "2025-02-25T10:41:05.130319Z",
     "shell.execute_reply.started": "2025-02-25T10:41:05.126927Z"
    },
    "trusted": true
   },
   "outputs": [],
   "source": [
    "def count_special_chars(url):\n",
    "    \"\"\"Count special characters in URL.\"\"\"\n",
    "    return len(re.findall(r'[./?\\-_@=]', url))"
   ]
  },
  {
   "cell_type": "code",
   "execution_count": 34,
   "metadata": {
    "execution": {
     "iopub.execute_input": "2025-02-25T10:41:09.627777Z",
     "iopub.status.busy": "2025-02-25T10:41:09.627486Z",
     "iopub.status.idle": "2025-02-25T10:41:09.634023Z",
     "shell.execute_reply": "2025-02-25T10:41:09.633211Z",
     "shell.execute_reply.started": "2025-02-25T10:41:09.627755Z"
    },
    "trusted": true
   },
   "outputs": [],
   "source": [
    "def extract_features(df):\n",
    "    \"\"\"Extract necessary features from URLs.\"\"\"\n",
    "    df['url_length'] = df['url'].apply(len)\n",
    "    df['num_special_chars'] = df['url'].apply(count_special_chars)\n",
    "    df['num_digits'] = df['url'].apply(lambda x: sum(c.isdigit() for c in x))\n",
    "    df['num_letters'] = df['url'].apply(lambda x: sum(c.isalpha() for c in x))\n",
    "    df['num_subdomains'] = df['url'].apply(lambda x: len(tldextract.extract(x).subdomain.split('.')))\n",
    "    df['has_ip'] = df['url'].apply(has_ip)\n",
    "    df['uses_https'] = df['url'].apply(lambda x: 1 if urlparse(x).scheme == 'https' else 0)\n",
    "    df['tld'] = df['url'].apply(lambda x: tldextract.extract(x).suffix)\n",
    "    \n",
    "    # Keep only the top 10 most frequent TLDs, others will be grouped as 'other'\n",
    "    top_tlds = df['tld'].value_counts().nlargest(10).index\n",
    "    df['tld'] = df['tld'].apply(lambda x: x if x in top_tlds else 'other')\n",
    "    df = pd.get_dummies(df, columns=['tld'], drop_first=True)\n",
    "    \n",
    "    return df\n",
    "\n",
    "\n",
    "\n",
    "\n"
   ]
  },
  {
   "cell_type": "code",
   "execution_count": 35,
   "metadata": {
    "execution": {
     "iopub.execute_input": "2025-02-25T10:41:12.858088Z",
     "iopub.status.busy": "2025-02-25T10:41:12.857799Z",
     "iopub.status.idle": "2025-02-25T10:41:41.483822Z",
     "shell.execute_reply": "2025-02-25T10:41:41.483050Z",
     "shell.execute_reply.started": "2025-02-25T10:41:12.858066Z"
    },
    "trusted": true
   },
   "outputs": [],
   "source": [
    "df_features = extract_features(df)"
   ]
  },
  {
   "cell_type": "code",
   "execution_count": 36,
   "metadata": {
    "execution": {
     "iopub.execute_input": "2025-02-25T10:41:41.485478Z",
     "iopub.status.busy": "2025-02-25T10:41:41.485131Z",
     "iopub.status.idle": "2025-02-25T10:41:41.490536Z",
     "shell.execute_reply": "2025-02-25T10:41:41.489489Z",
     "shell.execute_reply.started": "2025-02-25T10:41:41.485447Z"
    },
    "trusted": true
   },
   "outputs": [
    {
     "name": "stdout",
     "output_type": "stream",
     "text": [
      "Index(['url', 'status', 'url_length', 'num_special_chars', 'num_digits',\n",
      "       'num_letters', 'num_subdomains', 'has_ip', 'uses_https', 'tld_ca',\n",
      "       'tld_cn', 'tld_co.uk', 'tld_com', 'tld_edu', 'tld_net', 'tld_org',\n",
      "       'tld_other', 'tld_ru', 'tld_top'],\n",
      "      dtype='object')\n"
     ]
    }
   ],
   "source": [
    "print(df_features.columns)"
   ]
  },
  {
   "cell_type": "code",
   "execution_count": 37,
   "metadata": {
    "execution": {
     "iopub.execute_input": "2025-02-25T10:41:48.065926Z",
     "iopub.status.busy": "2025-02-25T10:41:48.065629Z",
     "iopub.status.idle": "2025-02-25T10:41:48.094965Z",
     "shell.execute_reply": "2025-02-25T10:41:48.094124Z",
     "shell.execute_reply.started": "2025-02-25T10:41:48.065905Z"
    },
    "trusted": true
   },
   "outputs": [],
   "source": [
    "# Drop the original URL column if it exists\n",
    "if 'url' in df_features.columns:\n",
    "    df_features = df_features.drop(columns=['url'])"
   ]
  },
  {
   "cell_type": "code",
   "execution_count": 38,
   "metadata": {
    "execution": {
     "iopub.execute_input": "2025-02-25T10:41:52.296848Z",
     "iopub.status.busy": "2025-02-25T10:41:52.296399Z",
     "iopub.status.idle": "2025-02-25T10:41:52.456351Z",
     "shell.execute_reply": "2025-02-25T10:41:52.455389Z",
     "shell.execute_reply.started": "2025-02-25T10:41:52.296803Z"
    },
    "trusted": true
   },
   "outputs": [],
   "source": [
    "# Split dataset into train and test sets\n",
    "X = df_features.drop(columns=['status'])  # Features\n",
    "y = df_features['status']  # Target variable\n",
    "X_train, X_test, y_train, y_test = train_test_split(X, y, test_size=0.2, random_state=42)\n"
   ]
  },
  {
   "cell_type": "code",
   "execution_count": 39,
   "metadata": {
    "execution": {
     "iopub.execute_input": "2025-02-25T10:41:55.276073Z",
     "iopub.status.busy": "2025-02-25T10:41:55.275775Z",
     "iopub.status.idle": "2025-02-25T10:41:55.300934Z",
     "shell.execute_reply": "2025-02-25T10:41:55.300162Z",
     "shell.execute_reply.started": "2025-02-25T10:41:55.276051Z"
    },
    "trusted": true
   },
   "outputs": [],
   "source": [
    "# Handle missing values (if any)\n",
    "X_train = X_train.fillna(0)\n",
    "X_test = X_test.fillna(0)"
   ]
  },
  {
   "cell_type": "code",
   "execution_count": 40,
   "metadata": {
    "execution": {
     "iopub.execute_input": "2025-02-25T10:42:59.618801Z",
     "iopub.status.busy": "2025-02-25T10:42:59.618508Z",
     "iopub.status.idle": "2025-02-25T10:42:59.946065Z",
     "shell.execute_reply": "2025-02-25T10:42:59.945344Z",
     "shell.execute_reply.started": "2025-02-25T10:42:59.618778Z"
    },
    "trusted": true
   },
   "outputs": [],
   "source": [
    "# Feature selection: Keep only the 15 best features\n",
    "selector = SelectKBest(score_func=f_classif, k=15)\n",
    "X_train = selector.fit_transform(X_train, y_train)\n",
    "X_test = selector.transform(X_test)"
   ]
  },
  {
   "cell_type": "code",
   "execution_count": 41,
   "metadata": {
    "execution": {
     "iopub.execute_input": "2025-02-25T10:43:03.603385Z",
     "iopub.status.busy": "2025-02-25T10:43:03.603066Z",
     "iopub.status.idle": "2025-02-25T10:43:48.995977Z",
     "shell.execute_reply": "2025-02-25T10:43:48.995171Z",
     "shell.execute_reply.started": "2025-02-25T10:43:03.603360Z"
    },
    "trusted": true
   },
   "outputs": [],
   "source": [
    "# Train Random Forest model\n",
    "clf = RandomForestClassifier(n_estimators=100, random_state=42)\n",
    "clf.fit(X_train, y_train)\n",
    "\n",
    "# Predict on test set\n",
    "y_pred = clf.predict(X_test)"
   ]
  },
  {
   "cell_type": "code",
   "execution_count": 42,
   "metadata": {
    "execution": {
     "iopub.execute_input": "2025-02-25T10:43:57.834778Z",
     "iopub.status.busy": "2025-02-25T10:43:57.834447Z",
     "iopub.status.idle": "2025-02-25T10:43:57.902061Z",
     "shell.execute_reply": "2025-02-25T10:43:57.901089Z",
     "shell.execute_reply.started": "2025-02-25T10:43:57.834750Z"
    },
    "trusted": true
   },
   "outputs": [],
   "source": [
    "# Evaluate model\n",
    "accuracy = accuracy_score(y_test, y_pred)\n",
    "report = classification_report(y_test, y_pred)"
   ]
  },
  {
   "cell_type": "code",
   "execution_count": 43,
   "metadata": {
    "execution": {
     "iopub.execute_input": "2025-02-25T10:44:00.151857Z",
     "iopub.status.busy": "2025-02-25T10:44:00.151531Z",
     "iopub.status.idle": "2025-02-25T10:44:02.998832Z",
     "shell.execute_reply": "2025-02-25T10:44:02.998088Z",
     "shell.execute_reply.started": "2025-02-25T10:44:00.151828Z"
    },
    "trusted": true
   },
   "outputs": [],
   "source": [
    "# Save processed dataset\n",
    "df_features.to_csv(\"processed_data.csv\", index=False)\n"
   ]
  },
  {
   "cell_type": "code",
   "execution_count": 44,
   "metadata": {
    "execution": {
     "iopub.execute_input": "2025-02-25T10:44:07.673616Z",
     "iopub.status.busy": "2025-02-25T10:44:07.673283Z",
     "iopub.status.idle": "2025-02-25T10:44:07.679401Z",
     "shell.execute_reply": "2025-02-25T10:44:07.678588Z",
     "shell.execute_reply.started": "2025-02-25T10:44:07.673591Z"
    },
    "trusted": true
   },
   "outputs": [
    {
     "name": "stdout",
     "output_type": "stream",
     "text": [
      "Feature extraction and selection complete. Processed dataset saved.\n",
      "Model Accuracy: 0.8565\n",
      "Classification Report:\n",
      "               precision    recall  f1-score   support\n",
      "\n",
      "           0       0.89      0.80      0.84     79122\n",
      "           1       0.83      0.91      0.87     85280\n",
      "\n",
      "    accuracy                           0.86    164402\n",
      "   macro avg       0.86      0.85      0.86    164402\n",
      "weighted avg       0.86      0.86      0.86    164402\n",
      "\n"
     ]
    }
   ],
   "source": [
    "\n",
    "# Display results\n",
    "print(\"Feature extraction and selection complete. Processed dataset saved.\")\n",
    "print(f\"Model Accuracy: {accuracy:.4f}\")\n",
    "print(\"Classification Report:\\n\", report)"
   ]
  },
  {
   "cell_type": "code",
   "execution_count": 50,
   "metadata": {
    "execution": {
     "iopub.execute_input": "2025-02-25T10:44:14.567118Z",
     "iopub.status.busy": "2025-02-25T10:44:14.566828Z",
     "iopub.status.idle": "2025-02-25T10:44:14.635933Z",
     "shell.execute_reply": "2025-02-25T10:44:14.635260Z",
     "shell.execute_reply.started": "2025-02-25T10:44:14.567097Z"
    },
    "trusted": true
   },
   "outputs": [
    {
     "name": "stdout",
     "output_type": "stream",
     "text": [
      "num_special_chars: 0.1972\n",
      "num_digits: 0.1401\n",
      "num_letters: 0.1756\n",
      "num_subdomains: 0.0565\n",
      "has_ip: 0.0030\n",
      "uses_https: 0.1432\n",
      "tld_ca: 0.0087\n",
      "tld_cn: 0.0304\n",
      "tld_co.uk: 0.0031\n",
      "tld_com: 0.0703\n",
      "tld_edu: 0.0156\n",
      "tld_org: 0.0213\n",
      "tld_other: 0.1126\n",
      "tld_ru: 0.0113\n",
      "tld_top: 0.0113\n"
     ]
    }
   ],
   "source": [
    "# Extract selected feature names\n",
    "selected_feature_names = X.columns[selector.get_support()]\n",
    "\n",
    "# Print feature importances with names\n",
    "for feature, importance in zip(selected_feature_names, clf.feature_importances_):\n",
    "    print(f\"{feature}: {importance:.4f}\")\n"
   ]
  },
  {
   "cell_type": "code",
   "execution_count": 51,
   "metadata": {},
   "outputs": [
    {
     "data": {
      "image/png": "[encoded data removed]",
      "text/plain": [
       "<Figure size 1000x600 with 1 Axes>"
      ]
     },
     "metadata": {},
     "output_type": "display_data"
    }
   ],
   "source": [
    "import matplotlib.pyplot as plt\n",
    "import numpy as np\n",
    "\n",
    "# Sort feature importances in descending order\n",
    "sorted_idx = np.argsort(clf.feature_importances_)[::-1]\n",
    "sorted_features = np.array(selected_feature_names)[sorted_idx]\n",
    "sorted_importances = clf.feature_importances_[sorted_idx]\n",
    "\n",
    "# Plot feature importances\n",
    "plt.figure(figsize=(10, 6))\n",
    "plt.barh(sorted_features, sorted_importances, color='skyblue')\n",
    "plt.xlabel(\"Feature Importance Score\")\n",
    "plt.ylabel(\"Features\")\n",
    "plt.title(\"Top Feature Importances\")\n",
    "plt.gca().invert_yaxis()  # Highest importance at the top\n",
    "plt.show()\n"
   ]
  },
  {
   "cell_type": "code",
   "execution_count": 47,
   "metadata": {
    "execution": {
     "iopub.execute_input": "2025-02-25T10:44:38.381740Z",
     "iopub.status.busy": "2025-02-25T10:44:38.381428Z",
     "iopub.status.idle": "2025-02-25T10:44:38.386225Z",
     "shell.execute_reply": "2025-02-25T10:44:38.385233Z",
     "shell.execute_reply.started": "2025-02-25T10:44:38.381715Z"
    },
    "trusted": true
   },
   "outputs": [],
   "source": [
    "# Function to predict phishing for multiple URLs\n",
    "def predict_urls(url_list):\n",
    "    \"\"\"Predict whether the given URLs are phishing or legitimate.\"\"\"\n",
    "    test_df = pd.DataFrame({'url': url_list})\n",
    "    test_features = extract_features(test_df)\n",
    "    test_features = test_features.reindex(columns=X.columns, fill_value=0)  # Align with training features\n",
    "    test_features = selector.transform(test_features)  # Apply feature selection\n",
    "    predictions = clf.predict(test_features)\n",
    "    return dict(zip(url_list, predictions))"
   ]
  },
  {
   "cell_type": "code",
   "execution_count": 48,
   "metadata": {
    "execution": {
     "iopub.execute_input": "2025-02-25T10:52:14.367701Z",
     "iopub.status.busy": "2025-02-25T10:52:14.367362Z",
     "iopub.status.idle": "2025-02-25T10:52:14.371396Z",
     "shell.execute_reply": "2025-02-25T10:52:14.370551Z",
     "shell.execute_reply.started": "2025-02-25T10:52:14.367674Z"
    },
    "trusted": true
   },
   "outputs": [],
   "source": [
    "# Example usage\n",
    "urls_to_test = [\n",
    "    \"https://www.tesla.com\",\n",
    "    \"https://www.reddit.com\",\n",
    "    \"https://www.adobe.com\",\n",
    "    \"http://secure-update-paypal.com\",\n",
    "    \"http://microsoft-verification-login.com\",\n",
    "    \"http://amazon-account-security-check.com\",\n",
    "    \"http://instagram-login-authenticate.com\"\n",
    "]"
   ]
  },
  {
   "cell_type": "code",
   "execution_count": 49,
   "metadata": {
    "execution": {
     "iopub.execute_input": "2025-02-25T10:52:17.628601Z",
     "iopub.status.busy": "2025-02-25T10:52:17.628269Z",
     "iopub.status.idle": "2025-02-25T10:52:17.649899Z",
     "shell.execute_reply": "2025-02-25T10:52:17.648970Z",
     "shell.execute_reply.started": "2025-02-25T10:52:17.628559Z"
    },
    "trusted": true
   },
   "outputs": [
    {
     "name": "stdout",
     "output_type": "stream",
     "text": [
      "Prediction Results:\n",
      "https://www.tesla.com: Legitimate\n",
      "https://www.reddit.com: Legitimate\n",
      "https://www.adobe.com: Legitimate\n",
      "http://secure-update-paypal.com: Phishing\n",
      "http://microsoft-verification-login.com: Phishing\n",
      "http://amazon-account-security-check.com: Phishing\n",
      "http://instagram-login-authenticate.com: Phishing\n"
     ]
    }
   ],
   "source": [
    "results = predict_urls(urls_to_test)\n",
    "print(\"Prediction Results:\")\n",
    "for url, pred in results.items():\n",
    "    print(f\"{url}: {'Phishing' if pred == 1 else 'Legitimate'}\")"
   ]
  },
  {
   "cell_type": "code",
   "execution_count": 52,
   "metadata": {
    "execution": {
     "iopub.execute_input": "2025-02-25T11:20:20.022671Z",
     "iopub.status.busy": "2025-02-25T11:20:20.022340Z",
     "iopub.status.idle": "2025-02-25T11:20:20.366950Z",
     "shell.execute_reply": "2025-02-25T11:20:20.366051Z",
     "shell.execute_reply.started": "2025-02-25T11:20:20.022650Z"
    },
    "trusted": true
   },
   "outputs": [
    {
     "name": "stdout",
     "output_type": "stream",
     "text": [
      "Model saved successfully!\n"
     ]
    }
   ],
   "source": [
    "import joblib\n",
    "\n",
    "# Save the trained model\n",
    "joblib.dump(clf, \"phishing_model.pkl\")\n",
    "\n",
    "# Save the feature selector (so you can use the same features later)\n",
    "joblib.dump(selector, \"feature_selector.pkl\")\n",
    "\n",
    "# Save the column names used in training (needed for new data processing)\n",
    "joblib.dump(X.columns, \"feature_columns.pkl\")\n",
    "\n",
    "print(\"Model saved successfully!\")"
   ]
  },
  {
   "cell_type": "code",
   "execution_count": null,
   "metadata": {
    "trusted": true
   },
   "outputs": [],
   "source": []
  }
 ],
 "metadata": {
  "kaggle": {
   "accelerator": "gpu",
   "dataSources": [
    {
     "datasetId": 6707012,
     "sourceId": 10805468,
     "sourceType": "datasetVersion"
    }
   ],
   "dockerImageVersionId": 30886,
   "isGpuEnabled": true,
   "isInternetEnabled": true,
   "language": "python",
   "sourceType": "notebook"
  },
  "kernelspec": {
   "display_name": "Python 3",
   "language": "python",
   "name": "python3"
  },
  "language_info": {
   "codemirror_mode": {
    "name": "ipython",
    "version": 3
   },
   "file_extension": ".py",
   "mimetype": "text/x-python",
   "name": "python",
   "nbconvert_exporter": "python",
   "pygments_lexer": "ipython3",
   "version": "3.12.6"
  }
 },
 "nbformat": 4,
 "nbformat_minor": 4
}
