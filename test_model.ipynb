{
 "cells": [
  {
   "cell_type": "code",
   "execution_count": 3,
   "metadata": {},
   "outputs": [],
   "source": [
    "import joblib\n",
    "import pandas as pd\n",
    "import re\n",
    "import tldextract\n",
    "from urllib.parse import urlparse\n",
    "import ipaddress"
   ]
  },
  {
   "cell_type": "code",
   "execution_count": 4,
   "metadata": {},
   "outputs": [],
   "source": [
    "# Load the saved model and feature selector\n",
    "clf = joblib.load(\"phishing_model.pkl\")\n",
    "selector = joblib.load(\"feature_selector.pkl\")\n",
    "feature_columns = joblib.load(\"feature_columns.pkl\")  # Load feature names"
   ]
  },
  {
   "cell_type": "code",
   "execution_count": 5,
   "metadata": {},
   "outputs": [],
   "source": [
    "def has_ip(url):\n",
    "    \"\"\"Check if URL contains an IP address.\"\"\"\n",
    "    try:\n",
    "        ipaddress.ip_address(urlparse(url).netloc)\n",
    "        return 1\n",
    "    except ValueError:\n",
    "        return 0"
   ]
  },
  {
   "cell_type": "code",
   "execution_count": 6,
   "metadata": {},
   "outputs": [],
   "source": [
    "def count_special_chars(url):\n",
    "    \"\"\"Count special characters in URL.\"\"\"\n",
    "    return len(re.findall(r'[./?\\-_@=]', url))"
   ]
  },
  {
   "cell_type": "code",
   "execution_count": 7,
   "metadata": {},
   "outputs": [],
   "source": [
    "def extract_features(url_list):\n",
    "    \"\"\"Extract necessary features from URLs.\"\"\"\n",
    "    df = pd.DataFrame({'url': url_list})\n",
    "    df['url_length'] = df['url'].apply(len)\n",
    "    df['num_special_chars'] = df['url'].apply(count_special_chars)\n",
    "    df['num_digits'] = df['url'].apply(lambda x: sum(c.isdigit() for c in x))\n",
    "    df['num_letters'] = df['url'].apply(lambda x: sum(c.isalpha() for c in x))\n",
    "    df['num_subdomains'] = df['url'].apply(lambda x: len(tldextract.extract(x).subdomain.split('.')))\n",
    "    df['has_ip'] = df['url'].apply(has_ip)\n",
    "    df['uses_https'] = df['url'].apply(lambda x: 1 if urlparse(x).scheme == 'https' else 0)\n",
    "    df['tld'] = df['url'].apply(lambda x: tldextract.extract(x).suffix)\n",
    "\n",
    "    # Keep only the top 10 most frequent TLDs, others as 'other'\n",
    "    top_tlds = ['com', 'org', 'net', 'edu', 'gov', 'co', 'info', 'biz', 'xyz', 'cn']\n",
    "    df['tld'] = df['tld'].apply(lambda x: x if x in top_tlds else 'other')\n",
    "\n",
    "    # One-hot encoding for TLDs\n",
    "    df = pd.get_dummies(df, columns=['tld'], drop_first=True)\n",
    "\n",
    "    # Align with training features\n",
    "    df = df.reindex(columns=feature_columns, fill_value=0)\n",
    "\n",
    "    return df\n"
   ]
  },
  {
   "cell_type": "code",
   "execution_count": 8,
   "metadata": {},
   "outputs": [],
   "source": [
    "def predict_urls(url_list):\n",
    "    \"\"\"Predict whether the given URLs are phishing or legitimate.\"\"\"\n",
    "    test_features = extract_features(url_list)\n",
    "    test_features = selector.transform(test_features)  # Apply feature selection\n",
    "    predictions = clf.predict(test_features)\n",
    "    return dict(zip(url_list, predictions))"
   ]
  },
  {
   "cell_type": "code",
   "execution_count": 9,
   "metadata": {},
   "outputs": [],
   "source": [
    "# Example Test URLs\n",
    "urls_to_test = [\n",
    "    \"https://www.apple.com\",\n",
    "    \"http://fake-bank-login.com\",\n",
    "    \"https://secure.amazon.com\",\n",
    "    \"http://paypal-verification-login.com\"\n",
    "]"
   ]
  },
  {
   "cell_type": "code",
   "execution_count": 10,
   "metadata": {},
   "outputs": [
    {
     "name": "stdout",
     "output_type": "stream",
     "text": [
      "\n",
      "Prediction Results:\n",
      "https://www.apple.com: Legitimate\n",
      "http://fake-bank-login.com: Phishing\n",
      "https://secure.amazon.com: Legitimate\n",
      "http://paypal-verification-login.com: Phishing\n"
     ]
    }
   ],
   "source": [
    "results = predict_urls(urls_to_test)\n",
    "print(\"\\nPrediction Results:\")\n",
    "for url, pred in results.items():\n",
    "    print(f\"{url}: {'Phishing' if pred == 1 else 'Legitimate'}\")"
   ]
  },
  {
   "cell_type": "code",
   "execution_count": null,
   "metadata": {},
   "outputs": [],
   "source": []
  }
 ],
 "metadata": {
  "language_info": {
   "name": "python"
  }
 },
 "nbformat": 4,
 "nbformat_minor": 2
}
